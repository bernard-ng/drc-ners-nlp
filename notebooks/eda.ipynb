{
 "cells": [
  {
   "cell_type": "code",
   "execution_count": 1,
   "id": "c93a55c8",
   "metadata": {},
   "outputs": [
    {
     "name": "stdout",
     "output_type": "stream",
     "text": [
      ">> Loading CSV dataset from name_dataset.csv\n"
     ]
    }
   ],
   "source": [
    "#dependencies for visualization\n",
    "import pandas as pd\n",
    "import matplotlib.pyplot as plt\n",
    "import seaborn as sns\n",
    "import sys\n",
    "import os\n",
    "import importlib\n",
    "\n",
    "sys.path.append(os.path.abspath(\"..\"))\n",
    "import misc\n",
    "importlib.reload(misc)\n",
    "from misc import load_csv_dataset\n",
    "\n",
    "data = load_csv_dataset(\"name_dataset.csv\")\n",
    "df = pd.DataFrame(data)"
   ]
  },
  {
   "cell_type": "code",
   "execution_count": null,
   "id": "0374f8ee",
   "metadata": {},
   "outputs": [],
   "source": [
    "#breakdown of names into surname, middle name and first name\n",
    "#constraint: take into account compound names (eg. ILUNGA WA ILUNGA MARC)\n",
    "#            take into account missing names (eg. LOKUA KANZA, KASONGO GERMAINE)\n",
    "\n",
    "df['split'] = df['name'].str.strip().str.split()\n",
    "df = df[df['split'].notna() & df['split'].str.len() > 0]\n",
    "df['surname'] = df['split'].apply(lambda x: x[0] if len(x) >= 1 else \"null\")\n",
    "df['first_name'] = df['split'].apply(lambda x: x[-1] if len(x) >= 2 else \"null\")\n",
    "df['middle_name'] = df['split'].apply(lambda x: ' '.join(x[1:-1]) if len(x) > 2 else \"null\")\n",
    "df.drop(columns=['split'], inplace=True)\n",
    "df[['name', 'surname', 'middle_name', 'first_name']].head()"
   ]
  },
  {
   "cell_type": "code",
   "execution_count": 4,
   "id": "f2924f79",
   "metadata": {},
   "outputs": [
    {
     "data": {
      "image/png": "[encoded data removed]",
      "text/plain": [
       "<Figure size 640x480 with 1 Axes>"
      ]
     },
     "metadata": {},
     "output_type": "display_data"
    }
   ],
   "source": [
    "# Simple distribution of first names (display of the 10 most popular first names)\n",
    "sns.countplot(y=df['first_name'], order=df['first_name'].value_counts().iloc[:10].index)\n",
    "plt.title(\"Top 10 des prénoms\")\n",
    "plt.show()"
   ]
  },
  {
   "cell_type": "code",
   "execution_count": 9,
   "id": "76979895",
   "metadata": {},
   "outputs": [
    {
     "data": {
      "text/html": [
       "<div>\n",
       "<style scoped>\n",
       "    .dataframe tbody tr th:only-of-type {\n",
       "        vertical-align: middle;\n",
       "    }\n",
       "\n",
       "    .dataframe tbody tr th {\n",
       "        vertical-align: top;\n",
       "    }\n",
       "\n",
       "    .dataframe thead th {\n",
       "        text-align: right;\n",
       "    }\n",
       "</style>\n",
       "<table border=\"1\" class=\"dataframe\">\n",
       "  <thead>\n",
       "    <tr style=\"text-align: right;\">\n",
       "      <th></th>\n",
       "      <th>prenom</th>\n",
       "      <th>nombre</th>\n",
       "    </tr>\n",
       "  </thead>\n",
       "  <tbody>\n",
       "    <tr>\n",
       "      <th>0</th>\n",
       "      <td>JEAN</td>\n",
       "      <td>110011</td>\n",
       "    </tr>\n",
       "    <tr>\n",
       "      <th>1</th>\n",
       "      <td>JOSEPH</td>\n",
       "      <td>48119</td>\n",
       "    </tr>\n",
       "    <tr>\n",
       "      <th>2</th>\n",
       "      <td>ESTHER</td>\n",
       "      <td>46597</td>\n",
       "    </tr>\n",
       "    <tr>\n",
       "      <th>3</th>\n",
       "      <td>MARIE</td>\n",
       "      <td>43267</td>\n",
       "    </tr>\n",
       "    <tr>\n",
       "      <th>4</th>\n",
       "      <td>DORCAS</td>\n",
       "      <td>39549</td>\n",
       "    </tr>\n",
       "    <tr>\n",
       "      <th>5</th>\n",
       "      <td>RUTH</td>\n",
       "      <td>38785</td>\n",
       "    </tr>\n",
       "    <tr>\n",
       "      <th>6</th>\n",
       "      <td>DAVID</td>\n",
       "      <td>38748</td>\n",
       "    </tr>\n",
       "    <tr>\n",
       "      <th>7</th>\n",
       "      <td>GRACE</td>\n",
       "      <td>38639</td>\n",
       "    </tr>\n",
       "    <tr>\n",
       "      <th>8</th>\n",
       "      <td>SARAH</td>\n",
       "      <td>37571</td>\n",
       "    </tr>\n",
       "    <tr>\n",
       "      <th>9</th>\n",
       "      <td>MOISE</td>\n",
       "      <td>37498</td>\n",
       "    </tr>\n",
       "  </tbody>\n",
       "</table>\n",
       "</div>"
      ],
      "text/plain": [
       "   prenom  nombre\n",
       "0    JEAN  110011\n",
       "1  JOSEPH   48119\n",
       "2  ESTHER   46597\n",
       "3   MARIE   43267\n",
       "4  DORCAS   39549\n",
       "5    RUTH   38785\n",
       "6   DAVID   38748\n",
       "7   GRACE   38639\n",
       "8   SARAH   37571\n",
       "9   MOISE   37498"
      ]
     },
     "execution_count": 9,
     "metadata": {},
     "output_type": "execute_result"
    }
   ],
   "source": [
    "firstnames = df['first_name'].value_counts()\n",
    "df_firstnames = firstnames.reset_index()\n",
    "df_firstnames.columns = ['prenom', 'nombre']\n",
    "df_firstnames.head(10)"
   ]
  },
  {
   "cell_type": "code",
   "execution_count": null,
   "id": "5022f136-3174-406d-acf0-dee379969213",
   "metadata": {},
   "outputs": [
    {
     "name": "stdout",
     "output_type": "stream",
     "text": [
      ">> Le prénom 'AMAURY' apparaît 4 fois.\n",
      "\n"
     ]
    },
    {
     "data": {
      "text/html": [
       "<div>\n",
       "<style scoped>\n",
       "    .dataframe tbody tr th:only-of-type {\n",
       "        vertical-align: middle;\n",
       "    }\n",
       "\n",
       "    .dataframe tbody tr th {\n",
       "        vertical-align: top;\n",
       "    }\n",
       "\n",
       "    .dataframe thead th {\n",
       "        text-align: right;\n",
       "    }\n",
       "</style>\n",
       "<table border=\"1\" class=\"dataframe\">\n",
       "  <thead>\n",
       "    <tr style=\"text-align: right;\">\n",
       "      <th></th>\n",
       "      <th>name</th>\n",
       "      <th>region</th>\n",
       "    </tr>\n",
       "  </thead>\n",
       "  <tbody>\n",
       "    <tr>\n",
       "      <th>3259117</th>\n",
       "      <td>LUMBE EDELO AMAURY</td>\n",
       "      <td>global</td>\n",
       "    </tr>\n",
       "    <tr>\n",
       "      <th>3944162</th>\n",
       "      <td>CANSA KAYEMBE AMAURY</td>\n",
       "      <td>haut-katanga-1</td>\n",
       "    </tr>\n",
       "    <tr>\n",
       "      <th>7282030</th>\n",
       "      <td>LUMBE EDELO AMAURY</td>\n",
       "      <td>kinshasa-ouest</td>\n",
       "    </tr>\n",
       "    <tr>\n",
       "      <th>7734209</th>\n",
       "      <td>CANSA KAYEMBE AMAURY</td>\n",
       "      <td>global</td>\n",
       "    </tr>\n",
       "  </tbody>\n",
       "</table>\n",
       "</div>"
      ],
      "text/plain": [
       "                         name          region\n",
       "3259117    LUMBE EDELO AMAURY          global\n",
       "3944162  CANSA KAYEMBE AMAURY  haut-katanga-1\n",
       "7282030    LUMBE EDELO AMAURY  kinshasa-ouest\n",
       "7734209  CANSA KAYEMBE AMAURY          global"
      ]
     },
     "metadata": {},
     "output_type": "display_data"
    }
   ],
   "source": [
    "total_firstnames = df['first_name'].notna().sum()\n",
    "print(f\">> Nombre total de prénoms enregistrés : {total_firstnames}\")\n"
   ]
  },
  {
   "cell_type": "code",
   "execution_count": null,
   "id": "cfeec858-ad7e-4173-9262-a7d6e08a31d9",
   "metadata": {},
   "outputs": [],
   "source": []
  }
 ],
 "metadata": {
  "kernelspec": {
   "display_name": ".venv",
   "language": "python",
   "name": "python3"
  },
  "language_info": {
   "codemirror_mode": {
    "name": "ipython",
    "version": 3
   },
   "file_extension": ".py",
   "mimetype": "text/x-python",
   "name": "python",
   "nbconvert_exporter": "python",
   "pygments_lexer": "ipython3",
   "version": "3.12.7"
  }
 },
 "nbformat": 4,
 "nbformat_minor": 5
}
