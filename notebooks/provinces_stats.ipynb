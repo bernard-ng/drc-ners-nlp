{
 "cells": [
  {
   "cell_type": "markdown",
   "id": "b6cc3c6b-85c7-4a04-9aef-8ffc055aa93c",
   "metadata": {
    "jp-MarkdownHeadingCollapsed": true
   },
   "source": [
    "# Names Transition Modeling"
   ]
  },
  {
   "cell_type": "code",
   "execution_count": 1,
   "id": "initial_id",
   "metadata": {},
   "outputs": [],
   "source": [
    "import pandas as pd \n",
    "import unicodedata \n",
    "import matplotlib.pyplot as plt \n",
    "import seaborn as sns \n",
    "import numpy as np \n",
    "import re \n",
    "import sys \n",
    "import os \n",
    "\n",
    "sys.path.append(os.path.abspath(\"..\")) \n",
    "from collections import Counter \n",
    "from core.utils.data_loader import DataLoader \n",
    "from core.config.pipeline_config import PipelineConfig"
   ]
  },
  {
   "cell_type": "code",
   "execution_count": 2,
   "id": "f1a69290-a9c0-40d0-9fe8-a06d8a466671",
   "metadata": {},
   "outputs": [],
   "source": [
    "config = PipelineConfig(\n",
    "    paths={\n",
    "        \"root_dir\": \"../data\",\n",
    "        \"data_dir\": \"../data/dataset\",\n",
    "        \"models_dir\": \"../models\",\n",
    "        \"outputs_dir\": \"../data/processed\",\n",
    "        \"logs_dir\": \"../logs\",\n",
    "        \"configs_dir\": \"../configs\",\n",
    "        \"checkpoints_dir\": \"../checkpoints\"\n",
    "    }\n",
    ")\n",
    "\n",
    "loader = DataLoader(config)\n",
    "\n",
    "def normalize_letters(s):\n",
    "    \"\"\"Normalize accents -> ascii, lowercase, keep only a-z.\"\"\"\n",
    "    s = str(s)\n",
    "    s = unicodedata.normalize(\"NFKD\", s)\n",
    "    s = s.encode(\"ascii\", errors=\"ignore\").decode(\"utf-8\")\n",
    "    s = s.lower()\n",
    "    s = re.sub(r\"[^a-z]\", \"\", s)\n",
    "    return s"
   ]
  },
  {
   "cell_type": "code",
   "execution_count": 17,
   "id": "24a4ad40319f441b",
   "metadata": {},
   "outputs": [],
   "source": [
    "df = loader.load_csv_complete(config.paths.data_dir / \"names_featured.csv\")\n",
    "\n",
    "def clean_province(s):\n",
    "    return (\n",
    "        s.str.upper()\n",
    "        .str.strip()\n",
    "        .apply(lambda x: unicodedata.normalize(\"NFKD\", x)\n",
    "               .encode(\"ascii\", errors=\"ignore\")\n",
    "               .decode(\"utf-8\") if isinstance(x, str) else x)\n",
    "    )\n",
    "df['province'] = clean_province(df['province'])\n",
    "\n",
    "df_simple = df[df['identified_category'] == 'simple'].copy()\n",
    "df_simple['surname'] = df_simple['identified_name'].str.split().str[0]\n",
    "df_simple['middle_name'] = df_simple['identified_name'].str.split().str[1]\n",
    "df_simple['first_name'] = df_simple['identified_surname']\n",
    "df_simple = df_simple[df_simple['first_name'].notna() & (df_simple['first_name'].str.strip() != '')]"
   ]
  },
  {
   "cell_type": "code",
   "execution_count": 7,
   "id": "77abf83a2f6360f5",
   "metadata": {},
   "outputs": [
    {
     "data": {
      "text/html": [
       "<div>\n",
       "<style scoped>\n",
       "    .dataframe tbody tr th:only-of-type {\n",
       "        vertical-align: middle;\n",
       "    }\n",
       "\n",
       "    .dataframe tbody tr th {\n",
       "        vertical-align: top;\n",
       "    }\n",
       "\n",
       "    .dataframe thead th {\n",
       "        text-align: right;\n",
       "    }\n",
       "</style>\n",
       "<table border=\"1\" class=\"dataframe\">\n",
       "  <thead>\n",
       "    <tr style=\"text-align: right;\">\n",
       "      <th></th>\n",
       "      <th>province</th>\n",
       "      <th>count</th>\n",
       "    </tr>\n",
       "  </thead>\n",
       "  <tbody>\n",
       "    <tr>\n",
       "      <th>0</th>\n",
       "      <td>KINSHASA</td>\n",
       "      <td>1140620</td>\n",
       "    </tr>\n",
       "    <tr>\n",
       "      <th>1</th>\n",
       "      <td>AUTRES</td>\n",
       "      <td>1035751</td>\n",
       "    </tr>\n",
       "    <tr>\n",
       "      <th>2</th>\n",
       "      <td>KATANGA</td>\n",
       "      <td>836220</td>\n",
       "    </tr>\n",
       "    <tr>\n",
       "      <th>3</th>\n",
       "      <td>BANDUNDU</td>\n",
       "      <td>809949</td>\n",
       "    </tr>\n",
       "    <tr>\n",
       "      <th>4</th>\n",
       "      <td>KASAI-ORIENTAL</td>\n",
       "      <td>434497</td>\n",
       "    </tr>\n",
       "    <tr>\n",
       "      <th>5</th>\n",
       "      <td>NORD-KIVU</td>\n",
       "      <td>394999</td>\n",
       "    </tr>\n",
       "    <tr>\n",
       "      <th>6</th>\n",
       "      <td>KASAI-OCCIDENTAL</td>\n",
       "      <td>367626</td>\n",
       "    </tr>\n",
       "    <tr>\n",
       "      <th>7</th>\n",
       "      <td>EQUATEUR</td>\n",
       "      <td>356404</td>\n",
       "    </tr>\n",
       "    <tr>\n",
       "      <th>8</th>\n",
       "      <td>SUD-KIVU</td>\n",
       "      <td>346152</td>\n",
       "    </tr>\n",
       "    <tr>\n",
       "      <th>9</th>\n",
       "      <td>ORIENTALE</td>\n",
       "      <td>322756</td>\n",
       "    </tr>\n",
       "    <tr>\n",
       "      <th>10</th>\n",
       "      <td>BAS-CONGO</td>\n",
       "      <td>295155</td>\n",
       "    </tr>\n",
       "    <tr>\n",
       "      <th>11</th>\n",
       "      <td>MANIEMA</td>\n",
       "      <td>127813</td>\n",
       "    </tr>\n",
       "  </tbody>\n",
       "</table>\n",
       "</div>"
      ],
      "text/plain": [
       "            province    count\n",
       "0           KINSHASA  1140620\n",
       "1             AUTRES  1035751\n",
       "2            KATANGA   836220\n",
       "3           BANDUNDU   809949\n",
       "4     KASAI-ORIENTAL   434497\n",
       "5          NORD-KIVU   394999\n",
       "6   KASAI-OCCIDENTAL   367626\n",
       "7           EQUATEUR   356404\n",
       "8           SUD-KIVU   346152\n",
       "9          ORIENTALE   322756\n",
       "10         BAS-CONGO   295155\n",
       "11           MANIEMA   127813"
      ]
     },
     "metadata": {},
     "output_type": "display_data"
    }
   ],
   "source": [
    "display(df['province'].value_counts().reset_index().head(12))"
   ]
  },
  {
   "cell_type": "markdown",
   "id": "98ba6e48-a7c4-4aae-8b46-872489c95faf",
   "metadata": {},
   "source": [
    "# Surname (for whole country)"
   ]
  },
  {
   "cell_type": "code",
   "execution_count": 8,
   "id": "e324e1c9e8da4bd8",
   "metadata": {},
   "outputs": [],
   "source": [
    "surnames = df_simple['surname'].astype(str).str.lower().tolist()\n",
    "surnames = [re.sub(r\"[^a-z]\", \"\", name) for name in surnames] \n",
    "sequences = ['^' + s + '$' for s in surnames if s]\n",
    "\n",
    "tokens = ['^'] + list('abcdefghijklmnopqrstuvwxyz') + ['$']\n",
    "index = {t: i for i, t in enumerate(tokens)}"
   ]
  },
  {
   "cell_type": "code",
   "execution_count": 9,
   "id": "5f80329b-423e-4966-b3c8-80e68bc58d77",
   "metadata": {},
   "outputs": [],
   "source": [
    "transitions = Counter()\n",
    "for seq in sequences:\n",
    "    for a, b in zip(seq, seq[1:]):\n",
    "        if a in index and b in index:\n",
    "            transitions[(a, b)] += 1\n",
    "\n",
    "matrix = np.zeros((len(tokens), len(tokens)), dtype=int)\n",
    "for (a, b), count in transitions.items():\n",
    "    matrix[index[a], index[b]] += count\n",
    "\n",
    "df_counts = pd.DataFrame(matrix, index=tokens, columns=tokens)\n",
    "df_probs = df_counts.div(df_counts.sum(axis=1).replace(0, 1), axis=0)    "
   ]
  },
  {
   "cell_type": "markdown",
   "id": "e45b650a-4b9a-48f5-b532-4a3c25fe45b6",
   "metadata": {},
   "source": [
    "## Transition matrix for the entire country"
   ]
  },
  {
   "cell_type": "code",
   "execution_count": 10,
   "id": "67b3e0f724af646b",
   "metadata": {},
   "outputs": [
    {
     "data": {
      "image/png": "[encoded data removed]",
      "text/plain": [
       "<Figure size 1200x1000 with 2 Axes>"
      ]
     },
     "metadata": {},
     "output_type": "display_data"
    }
   ],
   "source": [
    "letters = list('abcdefghijklmnopqrstuvwxyz')\n",
    "plt.figure(figsize=(12, 10))\n",
    "sns.heatmap(df_probs.loc[letters, letters].values,\n",
    "            xticklabels=letters, yticklabels=letters,\n",
    "            cmap=\"Reds\")\n",
    "plt.title(\"Transition probabilities (surnames)  — a -> b\")\n",
    "plt.xlabel(\"Next letter\")\n",
    "plt.ylabel(\"Current letter\")\n",
    "plt.show()"
   ]
  },
  {
   "cell_type": "code",
   "execution_count": 12,
   "id": "e3920ada047fce0a",
   "metadata": {},
   "outputs": [
    {
     "data": {
      "text/plain": [
       "['Mwa',\n",
       " 'Amba',\n",
       " 'Mbuloka',\n",
       " 'Muki',\n",
       " 'Zasa',\n",
       " 'Ndomwandileg',\n",
       " 'Emashianzolo',\n",
       " 'Ma',\n",
       " 'Lizimafu',\n",
       " 'Tsulangesony']"
      ]
     },
     "execution_count": 12,
     "metadata": {},
     "output_type": "execute_result"
    }
   ],
   "source": [
    "def generate_name(prob_matrix, index, tokens, max_len=12):\n",
    "    inv_index = {i: l for l, i in index.items()}\n",
    "    \n",
    "    current = '^' \n",
    "    result = []\n",
    "    \n",
    "    for _ in range(max_len):\n",
    "        row = prob_matrix[index[current]]\n",
    "        next_letter = np.random.choice(tokens, p=row)\n",
    "        \n",
    "        if next_letter == '$': \n",
    "            break\n",
    "        result.append(next_letter)\n",
    "        current = next_letter\n",
    "    \n",
    "    return \"\".join(result).capitalize()\n",
    "\n",
    "generated_names = [generate_name(df_probs.values, index, tokens) for _ in range(10)]\n",
    "generated_names"
   ]
  },
  {
   "cell_type": "code",
   "execution_count": null,
   "id": "28fe77f9-f9b0-4267-9dbb-3969e04b83fb",
   "metadata": {},
   "outputs": [],
   "source": []
  }
 ],
 "metadata": {
  "kernelspec": {
   "display_name": "Python 3 (ipykernel)",
   "language": "python",
   "name": "python3"
  },
  "language_info": {
   "codemirror_mode": {
    "name": "ipython",
    "version": 3
   },
   "file_extension": ".py",
   "mimetype": "text/x-python",
   "name": "python",
   "nbconvert_exporter": "python",
   "pygments_lexer": "ipython3",
   "version": "3.12.3"
  }
 },
 "nbformat": 4,
 "nbformat_minor": 5
}
