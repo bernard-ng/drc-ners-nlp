{
 "cells": [
  {
   "metadata": {},
   "cell_type": "markdown",
   "source": "# Qualitative Analysis",
   "id": "d20715dd63f57364"
  },
  {
   "cell_type": "code",
   "id": "c93a55c8",
   "metadata": {
    "ExecuteTime": {
     "end_time": "2025-09-21T13:34:50.973298Z",
     "start_time": "2025-09-21T13:34:50.969142Z"
    }
   },
   "source": [
    "import pandas as pd\n",
    "import geopandas as gpd\n",
    "import matplotlib.pyplot as plt\n",
    "import seaborn as sns\n",
    "import sys\n",
    "import os\n",
    "\n",
    "sys.path.append(os.path.abspath(\"..\"))\n",
    "from core.utils.data_loader import DataLoader\n",
    "from core.config.pipeline_config import PipelineConfig"
   ],
   "outputs": [],
   "execution_count": 3
  },
  {
   "cell_type": "code",
   "id": "c0b00261",
   "metadata": {
    "ExecuteTime": {
     "end_time": "2025-09-21T13:34:51.002610Z",
     "start_time": "2025-09-21T13:34:50.998586Z"
    }
   },
   "source": [
    "config = PipelineConfig(\n",
    "    paths={\n",
    "        \"root_dir\": \"../data\",\n",
    "        \"data_dir\": \"../data/dataset\",\n",
    "        \"models_dir\": \"../models\",\n",
    "        \"outputs_dir\": \"../data/processed\",\n",
    "        \"logs_dir\": \"../logs\",\n",
    "        \"configs_dir\": \"../configs\",\n",
    "        \"checkpoints_dir\": \"../checkpoints\"\n",
    "    }\n",
    ")\n",
    "\n",
    "loader = DataLoader(config)"
   ],
   "outputs": [],
   "execution_count": 4
  },
  {
   "metadata": {
    "ExecuteTime": {
     "end_time": "2025-09-21T13:35:27.430639Z",
     "start_time": "2025-09-21T13:34:51.013412Z"
    }
   },
   "cell_type": "code",
   "outputs": [],
   "execution_count": 5,
   "source": [
    "gdf = gpd.read_file(\"../osm/provinces.shp\")\n",
    "gdf_proj = gdf.to_crs(epsg=32732)\n",
    "gdf['centroid'] = gdf_proj.geometry.centroid.to_crs(gdf.crs)\n",
    "\n",
    "df = loader.load_csv_complete(config.paths.data_dir / \"names_featured.csv\")"
   ],
   "id": "b38394ce38864379"
  },
  {
   "metadata": {},
   "cell_type": "markdown",
   "source": "## Exploration",
   "id": "a1af5626d2a948d6"
  }
 ],
 "metadata": {
  "kernelspec": {
   "display_name": "Python 3 (ipykernel)",
   "language": "python",
   "name": "python3"
  },
  "language_info": {
   "codemirror_mode": {
    "name": "ipython",
    "version": 3
   },
   "file_extension": ".py",
   "mimetype": "text/x-python",
   "name": "python",
   "nbconvert_exporter": "python",
   "pygments_lexer": "ipython3",
   "version": "3.11.11"
  }
 },
 "nbformat": 4,
 "nbformat_minor": 5
}
