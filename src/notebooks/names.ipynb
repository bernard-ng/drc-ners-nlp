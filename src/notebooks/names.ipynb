{
 "cells": [
  {
   "cell_type": "markdown",
   "id": "ae0a818eafd9bd24",
   "metadata": {},
   "source": [
    "# Names Analysis & Modeling"
   ]
  },
  {
   "cell_type": "code",
   "execution_count": null,
   "id": "initial_id",
   "metadata": {
    "ExecuteTime": {
     "end_time": "2025-09-28T21:41:26.227960Z",
     "start_time": "2025-09-28T21:41:26.224407Z"
    }
   },
   "outputs": [],
   "source": [
    "import matplotlib.pyplot as plt\n",
    "import seaborn as sns\n",
    "import pandas as pd\n",
    "import numpy as np\n",
    "import sys\n",
    "import os"
   ]
  },
  {
   "cell_type": "code",
   "execution_count": null,
   "id": "584a6fcfcbea71e4",
   "metadata": {
    "ExecuteTime": {
     "end_time": "2025-09-28T21:41:26.471906Z",
     "start_time": "2025-09-28T21:41:26.234143Z"
    }
   },
   "outputs": [],
   "source": [
    "sys.path.append(os.path.abspath(\"..\"))\n",
    "\n",
    "from ners.core.utils.data_loader import DataLoader\n",
    "from ners.core.utils.region_mapper import RegionMapper\n",
    "from ners.core.config import setup_config\n",
    "\n",
    "from ners.research.statistics.utils import LETTERS\n",
    "from ners.research.statistics.utils import build_category_distribution\n",
    "from ners.research.statistics.utils import build_words_token\n",
    "from ners.research.statistics.utils import build_transition_probabilities\n",
    "from ners.research.statistics.utils import build_transition_comparisons\n",
    "from ners.research.statistics.utils import build_ngrams_count\n",
    "from ners.research.statistics.plots import plot_transition_matrix\n",
    "from ners.research.statistics.plots import plot_letter_frequencies"
   ]
  },
  {
   "cell_type": "code",
   "execution_count": null,
   "id": "f1a69290-a9c0-40d0-9fe8-a06d8a466671",
   "metadata": {
    "ExecuteTime": {
     "end_time": "2025-09-28T21:41:26.481898Z",
     "start_time": "2025-09-28T21:41:26.478191Z"
    }
   },
   "outputs": [],
   "source": [
    "config = setup_config()\n",
    "loader = DataLoader(config)"
   ]
  },
  {
   "cell_type": "code",
   "execution_count": null,
   "id": "e48c6fd9a213bcd2",
   "metadata": {
    "ExecuteTime": {
     "end_time": "2025-09-28T21:41:53.362337Z",
     "start_time": "2025-09-28T21:41:26.490902Z"
    }
   },
   "outputs": [],
   "source": [
    "df = loader.load_csv_complete(config.paths.data_dir / \"names_featured.csv\")\n",
    "df[\"province\"] = RegionMapper.clean_province(df[\"province\"])\n",
    "df.columns"
   ]
  },
  {
   "cell_type": "markdown",
   "id": "46429fc98b67a89f",
   "metadata": {},
   "source": [
    "## Name category distribution"
   ]
  },
  {
   "cell_type": "code",
   "execution_count": null,
   "id": "378147d2abc9ab24",
   "metadata": {
    "ExecuteTime": {
     "end_time": "2025-09-28T21:42:00.759309Z",
     "start_time": "2025-09-28T21:42:00.246322Z"
    }
   },
   "outputs": [],
   "source": [
    "df_name_categories = build_category_distribution(df)\n",
    "df_name_categories.head(12)\n",
    "\n",
    "# save data\n",
    "df_name_categories.to_csv(\"../../assets/identified_category_distribution.csv\", index=False)"
   ]
  },
  {
   "cell_type": "markdown",
   "id": "3c99d846cb37c469",
   "metadata": {},
   "source": [
    "### Simple vs Compose (all provinces)"
   ]
  },
  {
   "cell_type": "code",
   "execution_count": null,
   "id": "ae30e79a975010d4",
   "metadata": {
    "ExecuteTime": {
     "end_time": "2025-09-28T21:42:04.015038Z",
     "start_time": "2025-09-28T21:42:00.766470Z"
    }
   },
   "outputs": [],
   "source": [
    "fig, axes = plt.subplots(1, 2, figsize=(10, 10))\n",
    "\n",
    "# Pie 1: Simple vs Compose\n",
    "labels = [\"Simple\", \"Compose\"]\n",
    "values = [\n",
    "    len(df.query(\"identified_category == 'simple'\")),\n",
    "    len(df.query(\"identified_category == 'compose'\")),\n",
    "]\n",
    "axes[0].pie(values, labels=labels, autopct=\"%1.1f%%\", startangle=90)\n",
    "axes[0].set_title(\"Distribution by Category\")\n",
    "\n",
    "# Pie 2: Male vs Female\n",
    "labels = [\"Male\", \"Female\"]\n",
    "values = [len(df.query(\"sex == 'm'\")), len(df.query(\"sex == 'f'\"))]\n",
    "axes[1].pie(values, labels=labels, autopct=\"%1.1f%%\", startangle=90)\n",
    "axes[1].set_title(\"Distribution by Sex\")\n",
    "\n",
    "for ax in axes.flat:\n",
    "    ax.set_aspect(\"equal\")\n",
    "\n",
    "plt.tight_layout()\n",
    "\n",
    "# Save figures\n",
    "plt.savefig(\"../../assets/distribution_grid.png\")\n",
    "plt.savefig(\"../../assets/distribution_grid.svg\")\n",
    "\n",
    "plt.show()"
   ]
  },
  {
   "cell_type": "markdown",
   "id": "d31d8ae890cdfece",
   "metadata": {},
   "source": [
    "### Simple vs Compose by Province"
   ]
  },
  {
   "cell_type": "code",
   "execution_count": null,
   "id": "6d5c1abb55b7076a",
   "metadata": {
    "ExecuteTime": {
     "end_time": "2025-09-28T21:42:04.514885Z",
     "start_time": "2025-09-28T21:42:04.038820Z"
    }
   },
   "outputs": [],
   "source": [
    "df_name_categories_pct = (\n",
    "    df_name_categories.div(df_name_categories.sum(axis=1), axis=0) * 100\n",
    ")\n",
    "ax = df_name_categories_pct.plot.barh(\n",
    "    stacked=True, figsize=(12, 6), colormap=\"tab20c\", width=0.85\n",
    ")\n",
    "\n",
    "ax.set_xlabel(\"Proportion (%)\")\n",
    "ax.set_ylabel(\"Province\")\n",
    "ax.set_xlim(0, 100)\n",
    "ax.grid(axis=\"x\", linestyle=\"--\", alpha=0.6)\n",
    "\n",
    "plt.legend(title=\"Category\", bbox_to_anchor=(1.05, 1), loc=\"upper left\")\n",
    "plt.tight_layout()\n",
    "\n",
    "# save figures\n",
    "plt.savefig(\"../../assets/identified_category_distribution_by_province.png\")\n",
    "plt.savefig(\"../../assets/identified_category_distribution_by_province.svg\")\n",
    "\n",
    "plt.show()"
   ]
  },
  {
   "cell_type": "markdown",
   "id": "1973b08d18c2258e",
   "metadata": {},
   "source": [
    "## Native Names vs Surnames"
   ]
  },
  {
   "cell_type": "code",
   "execution_count": null,
   "id": "1e7dde234bb3504f",
   "metadata": {
    "ExecuteTime": {
     "end_time": "2025-09-28T21:42:05.285962Z",
     "start_time": "2025-09-28T21:42:04.523383Z"
    }
   },
   "outputs": [],
   "source": [
    "df_base = df.query(\"identified_category == 'simple'\")"
   ]
  },
  {
   "cell_type": "code",
   "execution_count": null,
   "id": "24a4ad40319f441b",
   "metadata": {
    "ExecuteTime": {
     "end_time": "2025-09-28T21:42:36.611043Z",
     "start_time": "2025-09-28T21:42:05.308895Z"
    }
   },
   "outputs": [],
   "source": [
    "df_names = build_words_token(df_base, \"identified_name\", \"name\")\n",
    "df_names = df_names[[\"name\", \"province\", \"sex\"]].reset_index(drop=True)\n",
    "df_names.describe().T"
   ]
  },
  {
   "cell_type": "code",
   "execution_count": null,
   "id": "736b0d787b9a6809",
   "metadata": {
    "ExecuteTime": {
     "end_time": "2025-09-28T21:42:59.059882Z",
     "start_time": "2025-09-28T21:42:37.124804Z"
    }
   },
   "outputs": [],
   "source": [
    "df_surnames = build_words_token(df_base, \"identified_surname\", \"name\")\n",
    "df_surnames = df_surnames[[\"name\", \"province\", \"sex\"]].reset_index(drop=True)\n",
    "df_surnames.describe().T"
   ]
  },
  {
   "cell_type": "code",
   "execution_count": null,
   "id": "7980efe654809722",
   "metadata": {
    "ExecuteTime": {
     "end_time": "2025-09-28T21:43:01.097806Z",
     "start_time": "2025-09-28T21:42:59.860815Z"
    }
   },
   "outputs": [],
   "source": [
    "df_names_m = df_names.query(\"sex == 'm'\")\n",
    "df_names_f = df_names.query(\"sex == 'f'\")\n",
    "\n",
    "df_surnames_m = df_surnames.query(\"sex == 'm'\")\n",
    "df_surnames_f = df_surnames.query(\"sex == 'f'\")"
   ]
  },
  {
   "cell_type": "code",
   "execution_count": null,
   "id": "9568492106dd2169",
   "metadata": {
    "ExecuteTime": {
     "end_time": "2025-09-28T21:43:06.100459Z",
     "start_time": "2025-09-28T21:43:01.376200Z"
    }
   },
   "outputs": [],
   "source": [
    "fig, axes = plt.subplots(1, 2, figsize=(10, 10))\n",
    "\n",
    "labels = [\"Only Male\", \"Only Female\", \"Shared\"]\n",
    "\n",
    "# Native names\n",
    "names_m = set(df_names_m[\"name\"].str.lower())\n",
    "names_f = set(df_names_f[\"name\"].str.lower())\n",
    "\n",
    "values = [len(names_m - names_f), len(names_f - names_m), len(names_m & names_f)]\n",
    "axes[0].pie(values, labels=labels, autopct=\"%1.1f%%\", startangle=90)\n",
    "axes[0].set_title(\"Native - Distribution by Gender\")\n",
    "\n",
    "# Surnames\n",
    "surnames_m = set(df_surnames_m[\"name\"].str.lower())\n",
    "surnames_f = set(df_surnames_f[\"name\"].str.lower())\n",
    "\n",
    "values = [\n",
    "    len(surnames_m - surnames_f),\n",
    "    len(surnames_f - surnames_m),\n",
    "    len(surnames_m & surnames_f),\n",
    "]\n",
    "axes[1].pie(values, labels=labels, autopct=\"%1.1f%%\", startangle=90)\n",
    "axes[1].set_title(\"Surnames - Distribution by Gender\")\n",
    "\n",
    "# Formatting\n",
    "for ax in axes.flat:\n",
    "    ax.set_aspect(\"equal\")\n",
    "\n",
    "plt.tight_layout()\n",
    "\n",
    "# Save figures\n",
    "plt.savefig(\"../../assets/name_by_gender_distribution_grid.png\")\n",
    "plt.savefig(\"../../assets/name_by_gender_distribution_grid.svg\")\n",
    "\n",
    "plt.show()"
   ]
  },
  {
   "cell_type": "code",
   "execution_count": null,
   "id": "12a7094d94ad519f",
   "metadata": {
    "ExecuteTime": {
     "end_time": "2025-09-28T21:43:30.859924Z",
     "start_time": "2025-09-28T21:43:07.728723Z"
    }
   },
   "outputs": [],
   "source": [
    "names_transitions = build_transition_probabilities(df_names[\"name\"])\n",
    "names_transitions_males = build_transition_probabilities(df_names_m[\"name\"])\n",
    "names_transitions_females = build_transition_probabilities(df_names_f[\"name\"])\n",
    "\n",
    "names_transitions[\"df_probs\"].to_csv(\n",
    "    \"../../assets/names_transition_probs.csv\", index=False\n",
    ")"
   ]
  },
  {
   "cell_type": "code",
   "execution_count": null,
   "id": "684b467b17955d65",
   "metadata": {
    "ExecuteTime": {
     "end_time": "2025-09-28T21:43:44.217712Z",
     "start_time": "2025-09-28T21:43:30.869697Z"
    }
   },
   "outputs": [],
   "source": [
    "surnames_transitions = build_transition_probabilities(df_surnames[\"name\"])\n",
    "surnames_transitions_males = build_transition_probabilities(df_surnames_m[\"name\"])\n",
    "surnames_transitions_females = build_transition_probabilities(df_surnames_f[\"name\"])\n",
    "\n",
    "surnames_transitions[\"df_probs\"].to_csv(\n",
    "    \"../../assets/surnames_transition_probs.csv\", index=False\n",
    ")"
   ]
  },
  {
   "cell_type": "code",
   "execution_count": null,
   "id": "f15ad6eb4df27527",
   "metadata": {
    "ExecuteTime": {
     "end_time": "2025-09-28T21:43:49.373562Z",
     "start_time": "2025-09-28T21:43:45.960221Z"
    }
   },
   "outputs": [],
   "source": [
    "fig, axes = plt.subplots(1, 3, figsize=(20, 6), sharex=True, sharey=True)\n",
    "hm1 = plot_transition_matrix(axes[0], names_transitions[\"df_probs\"], \"Native - Male\")\n",
    "hm2 = plot_transition_matrix(\n",
    "    axes[1], names_transitions_females[\"df_probs\"], \"Native - Female\"\n",
    ")\n",
    "hm3 = plot_transition_matrix(axes[2], names_transitions_males[\"df_probs\"], \"Native\")\n",
    "cbar = fig.colorbar(\n",
    "    hm3.collections[0], ax=axes, orientation=\"vertical\", fraction=0.03, pad=0.02\n",
    ")\n",
    "cbar.set_label(\"Transition probability\")\n",
    "plt.savefig(\"../../assets/names_transition_probabilities.png\")\n",
    "plt.savefig(\"../../assets/names_transition_probabilities.svg\")\n",
    "\n",
    "fig, axes = plt.subplots(1, 3, figsize=(20, 6), sharex=True, sharey=True)\n",
    "hm4 = plot_transition_matrix(\n",
    "    axes[0], surnames_transitions[\"df_probs\"], \"Surnames - Male\"\n",
    ")\n",
    "hm5 = plot_transition_matrix(\n",
    "    axes[1], surnames_transitions_females[\"df_probs\"], \"Surnames - Female\"\n",
    ")\n",
    "hm6 = plot_transition_matrix(\n",
    "    axes[2], surnames_transitions_males[\"df_probs\"], \"Surnames\"\n",
    ")\n",
    "cbar = fig.colorbar(\n",
    "    hm6.collections[0], ax=axes, orientation=\"vertical\", fraction=0.03, pad=0.02\n",
    ")\n",
    "cbar.set_label(\"Transition probability\")\n",
    "plt.savefig(\"../../assets/surnames_transition_probabilities.png\")\n",
    "plt.savefig(\"../../assets/surnames_transition_probabilities.svg\")\n",
    "plt.show()"
   ]
  },
  {
   "cell_type": "markdown",
   "id": "1f59136fe68b02a8",
   "metadata": {},
   "source": [
    "### Transition Probability Differences"
   ]
  },
  {
   "cell_type": "code",
   "execution_count": null,
   "id": "51ec0792317364fc",
   "metadata": {
    "ExecuteTime": {
     "end_time": "2025-09-28T21:43:50.242298Z",
     "start_time": "2025-09-28T21:43:49.382953Z"
    }
   },
   "outputs": [],
   "source": [
    "names_transitions_diff = (\n",
    "    names_transitions_males[\"df_probs\"] - names_transitions_females[\"df_probs\"]\n",
    ")\n",
    "surnames_transitions_diff = (\n",
    "    surnames_transitions_males[\"df_probs\"] - surnames_transitions_females[\"df_probs\"]\n",
    ")\n",
    "fig, axes = plt.subplots(1, 2, figsize=(14, 6), sharex=True, sharey=True)\n",
    "\n",
    "hm1 = sns.heatmap(\n",
    "    names_transitions_diff.loc[list(LETTERS), list(LETTERS)],\n",
    "    cmap=\"RdBu_r\",\n",
    "    center=0,\n",
    "    ax=axes[0],\n",
    "    cbar=False,\n",
    ")\n",
    "axes[0].set_title(\"Names Transition Difference (Male − Female)\")\n",
    "axes[0].set_xlabel(\"Next letter\")\n",
    "axes[0].set_ylabel(\"Current letter\")\n",
    "\n",
    "hm2 = sns.heatmap(\n",
    "    surnames_transitions_diff.loc[list(LETTERS), list(LETTERS)],\n",
    "    cmap=\"RdBu_r\",\n",
    "    center=0,\n",
    "    ax=axes[1],\n",
    "    cbar=False,\n",
    ")\n",
    "axes[1].set_title(\"Surnames Transition Difference (Male − Female)\")\n",
    "axes[1].set_xlabel(\"Next letter\")\n",
    "axes[1].set_ylabel(\"\")\n",
    "cbar = fig.colorbar(\n",
    "    hm2.collections[0], ax=axes, orientation=\"vertical\", fraction=0.03, pad=0.02\n",
    ")\n",
    "cbar.set_label(\"Difference in transition probability (Male − Female)\")\n",
    "\n",
    "plt.savefig(\"../../assets/transition_difference.png\")\n",
    "plt.show()"
   ]
  },
  {
   "cell_type": "code",
   "execution_count": null,
   "id": "dae836cd8a6c26e6",
   "metadata": {
    "ExecuteTime": {
     "end_time": "2025-09-28T21:43:53.422514Z",
     "start_time": "2025-09-28T21:43:51.881491Z"
    }
   },
   "outputs": [],
   "source": [
    "df_comparisons = build_transition_comparisons(\n",
    "    {\"m\": names_transitions_males, \"f\": names_transitions_females},\n",
    "    {\"m\": surnames_transitions_males, \"f\": surnames_transitions_females},\n",
    ")\n",
    "df_comparisons.to_csv(\"../../assets/transition_comparisons.csv\", index_label=\"category\")\n",
    "df_comparisons.head(3)"
   ]
  },
  {
   "cell_type": "markdown",
   "id": "30078f474d5f456e",
   "metadata": {},
   "source": [
    "l2 (Euclidean Distance): This metric shows the overall magnitude of the difference between the two matrices. The value for surnames (1.277) is significantly higher than for names (0.3189), indicating that the male and female surname transition matrices are farther apart than those for first names.\n",
    "\n",
    "kl_mf and kl_fm (Kullback-Leibler Divergence): These values measure the information lost when one gender's probability distribution is used to approximate the other. The values for surnames (0.2936 and 0.2399) are much larger than for names (0.0432 and 0.0215). This reinforces the L2 distance's finding: there's a greater difference in the letter patterns between male and female surnames.\n",
    "\n",
    "jsd (Jensen-Shannon Divergence): This is a symmetric, smoothed version of KL divergence. The jsd for surnames (0.2668) is much higher than for names (0.0324), providing a single, clear measure of the greater divergence in surname patterns.\n",
    "\n",
    "The permutation_p_value is the most crucial part of this analysis. It determines whether the observed differences are statistically significant or likely due to random chance.\n",
    "\n",
    "names (p-value = 0.979): A p-value of 0.979 is very high, far greater than the common significance level of 0.05. This means there's a 97.9% chance of observing a difference this large or larger even if there were no real difference in letter transition patterns between male and female first names. Therefore, you cannot reject the null hypothesis that the patterns are the same. The observed small difference (JSD = 0.032) is not statistically significant.\n",
    "\n",
    "surnames (p-value = 0.001): A p-value of 0.001 is very low, well below the significance level of 0.05. This means there's only a 0.1% chance of observing a difference this large or larger if there were no real difference. This provides strong statistical evidence to reject the null hypothesis. The significant difference (JSD = 0.266) is not random; it indicates a genuine, statistically significant difference in the letter transition patterns between male and female surnames.\n",
    "\n",
    "Conclusion: The analysis confirms that male and female surnames have distinct, gender-specific letter transition patterns, while the patterns in first names are not statistically different."
   ]
  },
  {
   "cell_type": "markdown",
   "id": "c49254df7eee9ae2",
   "metadata": {},
   "source": [
    "### Letters frequency"
   ]
  },
  {
   "cell_type": "code",
   "execution_count": null,
   "id": "9265e47639c4319d",
   "metadata": {
    "ExecuteTime": {
     "end_time": "2025-09-28T21:44:08.716709Z",
     "start_time": "2025-09-28T21:43:53.482784Z"
    }
   },
   "outputs": [],
   "source": [
    "plot_letter_frequencies(df_names_m, df_names_f, title=\"names\")"
   ]
  },
  {
   "cell_type": "code",
   "execution_count": null,
   "id": "395dace523f1bed4",
   "metadata": {
    "ExecuteTime": {
     "end_time": "2025-09-28T21:44:18.302146Z",
     "start_time": "2025-09-28T21:44:10.480696Z"
    }
   },
   "outputs": [],
   "source": [
    "plot_letter_frequencies(df_surnames_m, df_surnames_f, title=\"surnames\")"
   ]
  },
  {
   "cell_type": "markdown",
   "id": "d3dc057ce0869f93",
   "metadata": {},
   "source": [
    "### N-grams analysis"
   ]
  },
  {
   "cell_type": "markdown",
   "id": "67994bde86f2f6fc",
   "metadata": {},
   "source": [
    "#### Prefixes and Suffixes"
   ]
  },
  {
   "cell_type": "code",
   "execution_count": null,
   "id": "a685260c6ab8213d",
   "metadata": {
    "ExecuteTime": {
     "end_time": "2025-09-28T21:44:19.998062Z",
     "start_time": "2025-09-28T21:44:19.989365Z"
    }
   },
   "outputs": [],
   "source": [
    "import re\n",
    "\n",
    "\n",
    "def _pick_ngram_col(df: pd.DataFrame) -> str:\n",
    "    \"\"\"Detect the n-gram column name like '2-gram', '3-gram', etc.\"\"\"\n",
    "    for c in df.columns:\n",
    "        if isinstance(c, str) and c.endswith(\"-gram\"):\n",
    "            return c\n",
    "    raise ValueError(f\"Could not find an n-gram column in: {list(df.columns)}\")\n",
    "\n",
    "\n",
    "def build_ngram_summary_table(\n",
    "    results: dict, top_k: int = 20, sep: str = \", \"\n",
    ") -> pd.DataFrame:\n",
    "    \"\"\"\n",
    "    Convert dict of {subset_key: df} into rows of:\n",
    "      sex | 2-grams | 3-grams | 4-grams | position\n",
    "\n",
    "    Expected subset_key pattern: '{sex}_{position}_{n}', e.g. 'male_prefix_3', 'female_suffix_4', 'male_any_2'\n",
    "    \"\"\"\n",
    "    rows = {}\n",
    "\n",
    "    for key, df in results.items():\n",
    "        # Parse key -> sex, position, n\n",
    "        m = re.match(r\"^(male|female)_(prefix|suffix|any)_(\\d+)$\", key)\n",
    "        if not m:\n",
    "            # Skip keys that don't match the expected pattern\n",
    "            continue\n",
    "        sex, position, n_str = m.groups()\n",
    "        n = int(n_str)\n",
    "\n",
    "        if df is None or df.empty:\n",
    "            ng_list_str = \"\"\n",
    "        else:\n",
    "            ng_col = _pick_ngram_col(df)\n",
    "            # take top_k, cast to string, join\n",
    "            ng_list_str = sep.join(df[ng_col].astype(str).head(top_k).tolist())\n",
    "\n",
    "        # group rows by (sex, position)\n",
    "        rows.setdefault((sex, position), {}).update({f\"{n}-grams\": ng_list_str})\n",
    "\n",
    "    # Build final table, ensuring all n columns are present\n",
    "    records = []\n",
    "    for (sex, position), cols in rows.items():\n",
    "        record = {\n",
    "            \"sex\": sex,\n",
    "            \"position\": position,\n",
    "            \"2-grams\": cols.get(\"2-grams\", \"\"),\n",
    "            \"3-grams\": cols.get(\"3-grams\", \"\"),\n",
    "            \"4-grams\": cols.get(\"4-grams\", \"\"),\n",
    "        }\n",
    "        records.append(record)\n",
    "\n",
    "    # Order: sex (male,female), then position (prefix, suffix, any)\n",
    "    order_pos = {\"prefix\": 0, \"suffix\": 1, \"any\": 2}\n",
    "    df_out = pd.DataFrame(records)\n",
    "    if not df_out.empty:\n",
    "        df_out[\"__pos_order\"] = df_out[\"position\"].map(order_pos).fillna(99)\n",
    "        df_out = (\n",
    "            df_out.sort_values([\"sex\", \"__pos_order\"])\n",
    "            .drop(columns=\"__pos_order\")\n",
    "            .reset_index(drop=True)\n",
    "        )\n",
    "    return df_out"
   ]
  },
  {
   "cell_type": "code",
   "execution_count": null,
   "id": "3924bde83845366f",
   "metadata": {
    "ExecuteTime": {
     "end_time": "2025-09-28T21:46:12.618810Z",
     "start_time": "2025-09-28T21:44:20.007216Z"
    }
   },
   "outputs": [],
   "source": [
    "names_ngrams = {\n",
    "    # male\n",
    "    \"male_prefix_2\": build_ngrams_count(df_names_m, 2, \"prefix\"),\n",
    "    \"male_prefix_3\": build_ngrams_count(df_names_m, 3, \"prefix\"),\n",
    "    \"male_prefix_4\": build_ngrams_count(df_names_m, 4, \"prefix\"),\n",
    "    \"male_suffix_2\": build_ngrams_count(df_names_m, 2, \"suffix\"),\n",
    "    \"male_suffix_3\": build_ngrams_count(df_names_m, 3, \"suffix\"),\n",
    "    \"male_suffix_4\": build_ngrams_count(df_names_m, 4, \"suffix\"),\n",
    "    \"male_any_2\": build_ngrams_count(df_names_m, 2, \"any\"),\n",
    "    \"male_any_3\": build_ngrams_count(df_names_m, 3, \"any\"),\n",
    "    \"male_any_4\": build_ngrams_count(df_names_m, 4, \"any\"),\n",
    "    # female\n",
    "    \"female_prefix_2\": build_ngrams_count(df_names_f, 2, \"prefix\"),\n",
    "    \"female_prefix_3\": build_ngrams_count(df_names_f, 3, \"prefix\"),\n",
    "    \"female_prefix_4\": build_ngrams_count(df_names_f, 4, \"prefix\"),\n",
    "    \"female_suffix_2\": build_ngrams_count(df_names_f, 2, \"suffix\"),\n",
    "    \"female_suffix_3\": build_ngrams_count(df_names_f, 3, \"suffix\"),\n",
    "    \"female_suffix_4\": build_ngrams_count(df_names_f, 4, \"suffix\"),\n",
    "    \"female_any_2\": build_ngrams_count(df_names_f, 2, \"any\"),\n",
    "    \"female_any_3\": build_ngrams_count(df_names_f, 3, \"any\"),\n",
    "    \"female_any_4\": build_ngrams_count(df_names_f, 4, \"any\"),\n",
    "}"
   ]
  },
  {
   "cell_type": "code",
   "execution_count": null,
   "id": "9ceaae3cc9040c31",
   "metadata": {
    "ExecuteTime": {
     "end_time": "2025-09-28T21:46:14.363513Z",
     "start_time": "2025-09-28T21:46:14.334119Z"
    }
   },
   "outputs": [],
   "source": [
    "names_ngrams_summary = build_ngram_summary_table(names_ngrams, top_k=10)\n",
    "\n",
    "names_ngrams_summary.to_csv(\"../../assets/names_ngrams_summary.csv\", index=False)\n",
    "names_ngrams_summary"
   ]
  },
  {
   "cell_type": "code",
   "execution_count": null,
   "id": "951e8301584e549c",
   "metadata": {
    "ExecuteTime": {
     "end_time": "2025-09-28T21:47:17.247916Z",
     "start_time": "2025-09-28T21:46:14.408394Z"
    }
   },
   "outputs": [],
   "source": [
    "surnames_ngrams = {\n",
    "    # male\n",
    "    \"male_prefix_2\": build_ngrams_count(df_surnames_m, 2, \"prefix\"),\n",
    "    \"male_prefix_3\": build_ngrams_count(df_surnames_m, 3, \"prefix\"),\n",
    "    \"male_prefix_4\": build_ngrams_count(df_surnames_m, 4, \"prefix\"),\n",
    "    \"male_suffix_2\": build_ngrams_count(df_surnames_m, 2, \"suffix\"),\n",
    "    \"male_suffix_3\": build_ngrams_count(df_surnames_m, 3, \"suffix\"),\n",
    "    \"male_suffix_4\": build_ngrams_count(df_surnames_m, 4, \"suffix\"),\n",
    "    \"male_any_2\": build_ngrams_count(df_surnames_m, 2, \"any\"),\n",
    "    \"male_any_3\": build_ngrams_count(df_surnames_m, 3, \"any\"),\n",
    "    \"male_any_4\": build_ngrams_count(df_surnames_m, 4, \"any\"),\n",
    "    # female\n",
    "    \"female_prefix_2\": build_ngrams_count(df_surnames_f, 2, \"prefix\"),\n",
    "    \"female_prefix_3\": build_ngrams_count(df_surnames_f, 3, \"prefix\"),\n",
    "    \"female_prefix_4\": build_ngrams_count(df_surnames_f, 4, \"prefix\"),\n",
    "    \"female_suffix_2\": build_ngrams_count(df_surnames_f, 2, \"suffix\"),\n",
    "    \"female_suffix_3\": build_ngrams_count(df_surnames_f, 3, \"suffix\"),\n",
    "    \"female_suffix_4\": build_ngrams_count(df_surnames_f, 4, \"suffix\"),\n",
    "    \"female_any_2\": build_ngrams_count(df_surnames_f, 2, \"any\"),\n",
    "    \"female_any_3\": build_ngrams_count(df_surnames_f, 3, \"any\"),\n",
    "    \"female_any_4\": build_ngrams_count(df_surnames_f, 4, \"any\"),\n",
    "}"
   ]
  },
  {
   "cell_type": "code",
   "execution_count": null,
   "id": "f7ee40432896ef54",
   "metadata": {
    "ExecuteTime": {
     "end_time": "2025-09-28T21:47:19.856774Z",
     "start_time": "2025-09-28T21:47:19.831696Z"
    }
   },
   "outputs": [],
   "source": [
    "surnames_ngrams_summary = build_ngram_summary_table(surnames_ngrams, top_k=10)\n",
    "\n",
    "surnames_ngrams_summary.to_csv(\"../../assets/surnames_ngrams_summary.csv\", index=False)\n",
    "surnames_ngrams_summary"
   ]
  },
  {
   "cell_type": "markdown",
   "id": "28e65639-9082-464d-9330-71e2a028c878",
   "metadata": {},
   "source": [
    "## Name generation"
   ]
  },
  {
   "cell_type": "code",
   "execution_count": null,
   "id": "28fe77f9-f9b0-4267-9dbb-3969e04b83fb",
   "metadata": {
    "ExecuteTime": {
     "end_time": "2025-09-28T21:47:19.912431Z",
     "start_time": "2025-09-28T21:47:19.901973Z"
    }
   },
   "outputs": [],
   "source": [
    "# tokens must include '^' (start) and '$' (end)\n",
    "tokens = [\"^\"] + list(LETTERS) + [\"$\"]\n",
    "token_to_idx = {t: i for i, t in enumerate(tokens)}\n",
    "idx_to_token = np.array(tokens)\n",
    "V = len(tokens)\n",
    "\n",
    "\n",
    "# Prepare a well-formed probability matrix (rows sum to 1, no NaNs/negatives)\n",
    "def prepare_prob_matrix(df_probs, tokens):\n",
    "    import pandas as pd\n",
    "    import numpy as np\n",
    "\n",
    "    if isinstance(df_probs, pd.DataFrame):\n",
    "        P = df_probs.loc[tokens, tokens].to_numpy(dtype=float, copy=True)\n",
    "    else:\n",
    "        P = np.array(df_probs, dtype=float, copy=True)\n",
    "        if P.shape[0] != len(tokens) or P.shape[1] != len(tokens):\n",
    "            raise ValueError(\n",
    "                f\"Matrix shape {P.shape} does not match tokens length {len(tokens)}. \"\n",
    "                \"Use the same tokens used to build the matrix (e.g., transitions['tokens']).\"\n",
    "            )\n",
    "    # clean & renormalize\n",
    "    P[~np.isfinite(P) | (P < 0)] = 0.0\n",
    "    rs = P.sum(axis=1, keepdims=True)\n",
    "    P = np.divide(P, np.where(rs == 0, 1.0, rs), out=np.zeros_like(P), where=True)\n",
    "    return P\n",
    "\n",
    "\n",
    "def generate_name(\n",
    "    P,\n",
    "    token_to_idx,\n",
    "    idx_to_token,\n",
    "    *,\n",
    "    target_len=None,  # exact character length (letters only), if provided\n",
    "    min_len=1,  # minimum character length\n",
    "    max_len=12,  # hard cap on steps\n",
    "    temperature=1.0,\n",
    "):\n",
    "    start = token_to_idx[\"^\"]\n",
    "    end = token_to_idx[\"$\"]\n",
    "    cur = start\n",
    "    out = []\n",
    "\n",
    "    for _ in range(max_len):\n",
    "        row = P[cur]\n",
    "\n",
    "        # Temperature scaling (τ<1 = sharper, τ>1 = flatter)\n",
    "        if temperature != 1.0:\n",
    "            row = np.power(row, 1.0 / temperature)\n",
    "            s = row.sum()\n",
    "            row = row / s if s > 0 else row\n",
    "\n",
    "        row_mod = row.copy()\n",
    "\n",
    "        # 1) Prevent early stop before min_len\n",
    "        if len(out) < min_len:\n",
    "            row_mod[end] = 0.0\n",
    "\n",
    "        # 2) If target_len reached or exceeded, force end\n",
    "        if target_len is not None and len(out) >= target_len:\n",
    "            row_mod[:] = 0.0\n",
    "            row_mod[end] = 1.0\n",
    "\n",
    "        s = row_mod.sum()\n",
    "        if s == 0.0:\n",
    "            # Fallback: uniform over valid next tokens\n",
    "            candidates = np.arange(V)\n",
    "            # exclude '^'\n",
    "            candidates = candidates[candidates != start]\n",
    "            # exclude '$' if below min_len\n",
    "            if len(out) < min_len:\n",
    "                candidates = candidates[candidates != end]\n",
    "            probs = np.ones(len(candidates)) / len(candidates)\n",
    "            nxt_idx = np.random.choice(candidates, p=probs)\n",
    "        else:\n",
    "            row_mod = row_mod / s\n",
    "            nxt_idx = np.random.choice(V, p=row_mod)\n",
    "\n",
    "        if nxt_idx == end:\n",
    "            break\n",
    "        out.append(idx_to_token[nxt_idx])\n",
    "        cur = nxt_idx\n",
    "\n",
    "    return \"\".join(out).capitalize()"
   ]
  },
  {
   "cell_type": "code",
   "execution_count": null,
   "id": "a01eb547985d5a62",
   "metadata": {
    "ExecuteTime": {
     "end_time": "2025-09-28T21:48:59.032408Z",
     "start_time": "2025-09-28T21:48:59.020841Z"
    }
   },
   "outputs": [],
   "source": [
    "P = prepare_prob_matrix(names_transitions_males[\"df_probs\"], tokens)\n",
    "generated_var = [\n",
    "    generate_name(P, token_to_idx, idx_to_token, min_len=5, max_len=12, temperature=0.5)\n",
    "    for _ in range(10)\n",
    "]\n",
    "\n",
    "names = pd.DataFrame(generated_var, columns=[\"name\"])\n",
    "names"
   ]
  },
  {
   "cell_type": "code",
   "execution_count": null,
   "id": "5d5ec37da189b7a8",
   "metadata": {
    "ExecuteTime": {
     "end_time": "2025-09-28T21:48:52.059908Z",
     "start_time": "2025-09-28T21:48:52.049436Z"
    }
   },
   "outputs": [],
   "source": [
    "P = prepare_prob_matrix(names_transitions_females[\"df_probs\"], tokens)\n",
    "generated_var = [\n",
    "    generate_name(P, token_to_idx, idx_to_token, min_len=5, max_len=12, temperature=0.5)\n",
    "    for _ in range(10)\n",
    "]\n",
    "\n",
    "names = pd.DataFrame(generated_var, columns=[\"name\"])\n",
    "names"
   ]
  },
  {
   "cell_type": "code",
   "execution_count": null,
   "id": "746028258a8d8dfe",
   "metadata": {
    "ExecuteTime": {
     "end_time": "2025-09-28T21:49:58.339225Z",
     "start_time": "2025-09-28T21:49:58.329362Z"
    }
   },
   "outputs": [],
   "source": [
    "P = prepare_prob_matrix(surnames_transitions_females[\"df_probs\"], tokens)\n",
    "generated_var = [\n",
    "    generate_name(P, token_to_idx, idx_to_token, min_len=5, max_len=12, temperature=0.5)\n",
    "    for _ in range(10)\n",
    "]\n",
    "\n",
    "names = pd.DataFrame(generated_var, columns=[\"name\"])\n",
    "names"
   ]
  },
  {
   "cell_type": "code",
   "execution_count": null,
   "id": "7227ac855ee3688f",
   "metadata": {
    "ExecuteTime": {
     "end_time": "2025-09-28T21:49:30.676439Z",
     "start_time": "2025-09-28T21:49:30.664938Z"
    }
   },
   "outputs": [],
   "source": [
    "P = prepare_prob_matrix(surnames_transitions_males[\"df_probs\"], tokens)\n",
    "generated_var = [\n",
    "    generate_name(P, token_to_idx, idx_to_token, min_len=5, max_len=12, temperature=0.5)\n",
    "    for _ in range(10)\n",
    "]\n",
    "\n",
    "names = pd.DataFrame(generated_var, columns=[\"name\"])\n",
    "names"
   ]
  }
 ],
 "metadata": {
  "kernelspec": {
   "display_name": ".venv",
   "language": "python",
   "name": "python3"
  },
  "language_info": {
   "codemirror_mode": {
    "name": "ipython",
    "version": 3
   },
   "file_extension": ".py",
   "mimetype": "text/x-python",
   "name": "python",
   "nbconvert_exporter": "python",
   "pygments_lexer": "ipython3",
   "version": "3.11.13"
  }
 },
 "nbformat": 4,
 "nbformat_minor": 5
}
