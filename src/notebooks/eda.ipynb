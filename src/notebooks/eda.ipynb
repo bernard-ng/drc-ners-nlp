{
 "cells": [
  {
   "cell_type": "code",
   "execution_count": null,
   "id": "9a8891ca",
   "metadata": {},
   "outputs": [],
   "source": [
    "import pandas as pd\n",
    "import geopandas as gpd\n",
    "import matplotlib.pyplot as plt\n",
    "import seaborn as sns\n",
    "import sys\n",
    "import os"
   ]
  },
  {
   "cell_type": "code",
   "execution_count": null,
   "id": "c93a55c8",
   "metadata": {
    "ExecuteTime": {
     "end_time": "2025-09-21T12:36:58.113064Z",
     "start_time": "2025-09-21T12:36:58.109448Z"
    }
   },
   "outputs": [],
   "source": [
    "sys.path.append(os.path.abspath(\"..\"))\n",
    "\n",
    "from ners.core.config import setup_config\n",
    "from ners.core.utils.data_loader import DataLoader\n",
    "from ners.core.config.pipeline_config import PipelineConfig"
   ]
  },
  {
   "cell_type": "code",
   "execution_count": null,
   "id": "c0b00261",
   "metadata": {
    "ExecuteTime": {
     "end_time": "2025-09-21T12:37:00.293137Z",
     "start_time": "2025-09-21T12:37:00.288721Z"
    }
   },
   "outputs": [],
   "source": [
    "config = setup_config()\n",
    "loader = DataLoader(config)"
   ]
  },
  {
   "cell_type": "code",
   "execution_count": null,
   "id": "b38394ce38864379",
   "metadata": {
    "ExecuteTime": {
     "end_time": "2025-09-21T13:08:32.554903Z",
     "start_time": "2025-09-21T13:07:48.219021Z"
    }
   },
   "outputs": [],
   "source": [
    "gdf = gpd.read_file(\"../../assets/osm/provinces.shp\")\n",
    "gdf_proj = gdf.to_crs(epsg=32732)\n",
    "gdf[\"centroid\"] = gdf_proj.geometry.centroid.to_crs(gdf.crs)\n",
    "\n",
    "df = loader.load_csv_complete(config.paths.data_dir / \"names_featured.csv\")"
   ]
  },
  {
   "cell_type": "markdown",
   "id": "c5aee565",
   "metadata": {},
   "source": [
    "## Breakdown by Province"
   ]
  },
  {
   "cell_type": "code",
   "execution_count": null,
   "id": "dac785a7-1a32-4a1b-b35d-d8b85df60589",
   "metadata": {
    "ExecuteTime": {
     "end_time": "2025-09-21T13:09:18.404103Z",
     "start_time": "2025-09-21T13:09:11.722493Z"
    }
   },
   "outputs": [],
   "source": [
    "import unicodedata\n",
    "\n",
    "\n",
    "# Helper function for cleaning province names\n",
    "def clean_province(s):\n",
    "    return (\n",
    "        s.str.upper()\n",
    "        .str.strip()\n",
    "        .apply(\n",
    "            lambda x: unicodedata.normalize(\"NFKD\", x)\n",
    "            .encode(\"ascii\", errors=\"ignore\")\n",
    "            .decode(\"utf-8\")\n",
    "            if isinstance(x, str)\n",
    "            else x\n",
    "        )\n",
    "    )\n",
    "\n",
    "\n",
    "# Apply to both DataFrames\n",
    "df[\"province\"] = clean_province(df[\"province\"])\n",
    "gdf[\"province\"] = clean_province(gdf[\"name\"])\n",
    "\n",
    "# Group and merge\n",
    "counts = df[\"province\"].value_counts().reset_index()\n",
    "counts.columns = [\"province\", \"count\"]\n",
    "\n",
    "gdf = gdf.merge(counts, left_on=\"province\", right_on=\"province\", how=\"left\")"
   ]
  },
  {
   "cell_type": "code",
   "execution_count": null,
   "id": "c3f83d00-0606-44ea-a704-fc54d69263b4",
   "metadata": {
    "ExecuteTime": {
     "end_time": "2025-09-21T13:09:31.958721Z",
     "start_time": "2025-09-21T13:09:31.853694Z"
    }
   },
   "outputs": [],
   "source": [
    "gdf.head(12)"
   ]
  },
  {
   "cell_type": "code",
   "execution_count": null,
   "id": "2f9768a43d053cc7",
   "metadata": {
    "ExecuteTime": {
     "end_time": "2025-09-21T13:10:55.378635Z",
     "start_time": "2025-09-21T13:10:54.568311Z"
    }
   },
   "outputs": [],
   "source": [
    "fig, ax = plt.subplots(figsize=(10, 10))\n",
    "\n",
    "gdf.plot(column=\"count\", cmap=\"Blues\", edgecolor=\"black\", legend=True, ax=ax)\n",
    "labels = gdf.loc[gdf[\"count\"].notna(), [\"province\", \"centroid\"]]\n",
    "\n",
    "for _, row in labels.iterrows():\n",
    "    ax.annotate(\n",
    "        text=row[\"province\"],\n",
    "        xy=(row[\"centroid\"].x, row[\"centroid\"].y),\n",
    "        ha=\"center\",\n",
    "        va=\"center\",\n",
    "        fontsize=8,\n",
    "        color=\"black\",\n",
    "    )\n",
    "\n",
    "ax.axis(\"off\")\n",
    "plt.show()"
   ]
  },
  {
   "cell_type": "markdown",
   "id": "86895c8c07426e87",
   "metadata": {},
   "source": [
    "## Distribution"
   ]
  },
  {
   "cell_type": "code",
   "execution_count": null,
   "id": "27f6bcd2-f1de-419a-8d56-e29064934e2f",
   "metadata": {
    "ExecuteTime": {
     "end_time": "2025-09-21T13:20:10.306851Z",
     "start_time": "2025-09-21T13:20:09.539341Z"
    }
   },
   "outputs": [],
   "source": [
    "provinces = df[\"province\"].value_counts()\n",
    "plt.figure(figsize=(7, 7))\n",
    "plt.pie(provinces, labels=provinces.index, autopct=\"%1.1f%%\", startangle=140)\n",
    "plt.axis(\"equal\")\n",
    "plt.show()"
   ]
  },
  {
   "cell_type": "code",
   "execution_count": null,
   "id": "d51f3bee-d2a1-46a0-9e0b-af10c1ca7cb4",
   "metadata": {
    "ExecuteTime": {
     "end_time": "2025-09-21T13:20:13.171827Z",
     "start_time": "2025-09-21T13:20:13.004122Z"
    }
   },
   "outputs": [],
   "source": [
    "plt.figure(figsize=(10, 5))\n",
    "provinces.plot(kind=\"bar\")\n",
    "plt.xlabel(\"Province\")\n",
    "plt.ylabel(\"Count\")\n",
    "plt.xticks(rotation=45)\n",
    "plt.tight_layout()\n",
    "plt.show()"
   ]
  },
  {
   "cell_type": "code",
   "execution_count": null,
   "id": "9fb8c5ef88904668",
   "metadata": {
    "ExecuteTime": {
     "end_time": "2025-09-21T13:20:33.105874Z",
     "start_time": "2025-09-21T13:20:32.069129Z"
    }
   },
   "outputs": [],
   "source": [
    "plt.show()\n",
    "data = df.groupby([\"province\", \"sex\"], observed=False).size().reset_index(name=\"count\")\n",
    "data = data.sort_values(\"count\", ascending=False).drop_duplicates([\"province\", \"sex\"])\n",
    "\n",
    "plt.figure(figsize=(12, 6))\n",
    "sns.barplot(data=data, x=\"province\", y=\"count\", hue=\"sex\")\n",
    "\n",
    "plt.xlabel(\"Region\")\n",
    "plt.ylabel(\"Count\")\n",
    "plt.xticks(rotation=45)\n",
    "plt.legend(title=\"Sex\")\n",
    "plt.tight_layout()\n",
    "plt.show()"
   ]
  },
  {
   "cell_type": "code",
   "execution_count": null,
   "id": "8accaa686b4dad31",
   "metadata": {
    "ExecuteTime": {
     "end_time": "2025-09-21T13:16:56.211880Z",
     "start_time": "2025-09-21T13:16:56.095400Z"
    }
   },
   "outputs": [],
   "source": [
    "sex = df[\"sex\"].value_counts()\n",
    "plt.figure(figsize=(7, 7))\n",
    "plt.pie(sex, labels=sex.index, autopct=\"%1.1f%%\", startangle=140)\n",
    "plt.axis(\"equal\")\n",
    "plt.show()"
   ]
  },
  {
   "cell_type": "code",
   "execution_count": null,
   "id": "23b3a22f99657c57",
   "metadata": {
    "ExecuteTime": {
     "end_time": "2025-09-21T13:19:06.022380Z",
     "start_time": "2025-09-21T13:19:04.316464Z"
    }
   },
   "outputs": [],
   "source": [
    "df_provinces_sex_counts = (\n",
    "    df.groupby([\"province\", \"sex\"], observed=False).size().reset_index(name=\"count\")\n",
    ")\n",
    "provinces = df_provinces_sex_counts[\"province\"].unique()\n",
    "cols = 3\n",
    "rows = (len(provinces) + cols - 1) // cols\n",
    "\n",
    "plt.figure(figsize=(cols * 5, rows * 5))\n",
    "for i, province in enumerate(provinces, 1):\n",
    "    data = df_provinces_sex_counts[df_provinces_sex_counts[\"province\"] == province]\n",
    "    plt.subplot(rows, cols, i)\n",
    "    plt.pie(data[\"count\"], labels=data[\"sex\"], autopct=\"%1.1f%%\")\n",
    "    plt.title(province)\n",
    "    plt.axis(\"equal\")\n",
    "\n",
    "plt.tight_layout()\n",
    "plt.show()"
   ]
  },
  {
   "cell_type": "markdown",
   "id": "6afaf1acb51932c1",
   "metadata": {},
   "source": [
    "## Names"
   ]
  },
  {
   "cell_type": "code",
   "execution_count": null,
   "id": "0374f8ee",
   "metadata": {
    "ExecuteTime": {
     "end_time": "2025-09-01T05:52:21.285504Z",
     "start_time": "2025-07-03T10:13:30.265456Z"
    }
   },
   "outputs": [],
   "source": [
    "# breakdown of names into surname, middle name and first name\n",
    "# retrieve all rows whose name is identified as simple, and delete rows whose identified_name is null or empty\n",
    "\n",
    "df_simple = df[df[\"identified_category\"] == \"simple\"].copy()\n",
    "df_simple[\"surname\"] = df_simple[\"identified_name\"].str.split().str[0]\n",
    "df_simple[\"middle_name\"] = df_simple[\"identified_name\"].str.split().str[1]\n",
    "df_simple[\"first_name\"] = df_simple[\"identified_surname\"]\n",
    "df_simple = df_simple[\n",
    "    df_simple[\"first_name\"].notna() & (df_simple[\"first_name\"].str.strip() != \"\")\n",
    "]\n",
    "\n",
    "df_simple[[\"name\", \"surname\", \"middle_name\", \"first_name\"]].head()"
   ]
  },
  {
   "cell_type": "code",
   "execution_count": null,
   "id": "f2924f79",
   "metadata": {
    "ExecuteTime": {
     "end_time": "2025-09-01T05:52:21.291922Z",
     "start_time": "2025-07-03T10:13:57.540461Z"
    }
   },
   "outputs": [],
   "source": [
    "# Simple distribution of first names (display of the 10 most popular first names)\n",
    "sns.countplot(\n",
    "    y=df_simple[\"first_name\"],\n",
    "    order=df_simple[\"first_name\"].value_counts().iloc[:10].index,\n",
    ")\n",
    "plt.title(\"Top 10 first names (simple names only)\")\n",
    "plt.xlabel(\"Count\")\n",
    "plt.ylabel(\"First name\")\n",
    "plt.tight_layout()\n",
    "plt.show()"
   ]
  },
  {
   "cell_type": "code",
   "execution_count": null,
   "id": "76979895",
   "metadata": {
    "ExecuteTime": {
     "end_time": "2025-09-01T05:52:21.295116Z",
     "start_time": "2025-07-03T10:14:12.462839Z"
    }
   },
   "outputs": [],
   "source": [
    "firstnames = df_simple[\"first_name\"].value_counts()\n",
    "df_firstnames = firstnames.reset_index()\n",
    "df_firstnames.columns = [\"First name\", \"quantity\"]\n",
    "df_firstnames.head(10)"
   ]
  },
  {
   "cell_type": "code",
   "execution_count": null,
   "id": "61e35f38-96da-4d04-9779-9b3409adeae6",
   "metadata": {},
   "outputs": [],
   "source": [
    "# Most common first name by province\n",
    "top_names = (\n",
    "    df_simple.groupby([\"province_clean\", \"first_name\"]).size().reset_index(name=\"count\")\n",
    ")\n",
    "top_names = top_names.sort_values([\"province_clean\", \"count\"], ascending=[True, False])\n",
    "top_names = top_names.drop_duplicates(subset=\"province_clean\", keep=\"first\")\n",
    "gdf_named = gdf_merged.merge(\n",
    "    top_names[[\"province_clean\", \"first_name\"]],\n",
    "    left_on=\"province_upper\",\n",
    "    right_on=\"province_clean\",\n",
    "    how=\"left\",\n",
    ")\n",
    "\n",
    "fig, ax = plt.subplots(figsize=(12, 12))\n",
    "gdf_named.plot(column=\"count\", cmap=\"Blues\", edgecolor=\"black\", legend=True, ax=ax)\n",
    "\n",
    "for idx, row in gdf_named.iterrows():\n",
    "    if pd.notna(row[\"first_name\"]):\n",
    "        centroid = row[\"geometry\"].centroid\n",
    "        label = f\"{row['first_name']}\"\n",
    "        plt.text(\n",
    "            centroid.x,\n",
    "            centroid.y,\n",
    "            label,\n",
    "            horizontalalignment=\"center\",\n",
    "            fontsize=8,\n",
    "            color=\"black\",\n",
    "        )\n",
    "\n",
    "plt.title(\"Most common first name by province\")\n",
    "plt.axis(\"off\")\n",
    "plt.show()"
   ]
  },
  {
   "cell_type": "code",
   "execution_count": null,
   "id": "5022f136-3174-406d-acf0-dee379969213",
   "metadata": {
    "ExecuteTime": {
     "end_time": "2025-09-01T05:52:21.307190Z",
     "start_time": "2025-07-03T10:14:18.776729Z"
    }
   },
   "outputs": [],
   "source": [
    "# Total number of distinct first names\n",
    "total_firstnames = df_simple[\"first_name\"].notna().sum()\n",
    "print(f\">> Total number of first names registered : {total_firstnames}\")\n",
    "\n",
    "# categorization of first names\n",
    "firstnames_by_sex = (\n",
    "    df_simple.groupby([\"first_name\", \"sex\"]).size().unstack(fill_value=0)\n",
    ")\n",
    "male_firstnames = firstnames_by_sex[\n",
    "    (firstnames_by_sex[\"m\"] > 0) & (firstnames_by_sex[\"f\"] == 0)\n",
    "]\n",
    "print(f\">> Number of all-male first names : {len(male_firstnames)}\")\n",
    "female_firstnames = firstnames_by_sex[\n",
    "    (firstnames_by_sex[\"f\"] > 0) & (firstnames_by_sex[\"m\"] == 0)\n",
    "]\n",
    "print(f\">> Number of all-female first names : {len(female_firstnames)}\")\n",
    "neutral_firstnames = firstnames_by_sex[\n",
    "    (firstnames_by_sex[\"m\"] > 0) & (firstnames_by_sex[\"f\"] > 0)\n",
    "]\n",
    "print(f\">> Number of all-neutral first names : {len(neutral_firstnames)}\")"
   ]
  },
  {
   "cell_type": "code",
   "execution_count": null,
   "id": "cfeec858-ad7e-4173-9262-a7d6e08a31d9",
   "metadata": {
    "ExecuteTime": {
     "end_time": "2025-09-01T05:52:21.310439Z",
     "start_time": "2025-07-03T10:14:25.149415Z"
    }
   },
   "outputs": [],
   "source": [
    "# data for graphic interpretation\n",
    "labels = [\"Male\", \"Female\", \"Neutral\"]\n",
    "values = [len(male_firstnames), len(female_firstnames), len(neutral_firstnames)]\n",
    "\n",
    "# circular\n",
    "plt.figure(figsize=(6, 6))\n",
    "plt.pie(\n",
    "    values,\n",
    "    labels=labels,\n",
    "    autopct=\"%1.1f%%\",\n",
    "    startangle=140,\n",
    "    colors=[\"skyblue\", \"lightgreen\", \"lightgray\"],\n",
    ")\n",
    "plt.title(\"Distribution of first names by sex\")\n",
    "plt.axis(\"equal\")\n",
    "plt.show()"
   ]
  },
  {
   "cell_type": "code",
   "execution_count": null,
   "id": "cc1489c8-904f-4116-9872-8ba79f72eb94",
   "metadata": {},
   "outputs": [],
   "source": [
    "# Assign first name sex category\n",
    "df_simple[\"first_name_sex_category\"] = df_simple[\"first_name\"].map(\n",
    "    lambda x: \"Male\"\n",
    "    if x in male_firstnames\n",
    "    else (\n",
    "        \"Female\"\n",
    "        if x in female_firstnames\n",
    "        else (\"Neutral\" if x in neutral_firstnames else None)\n",
    "    )\n",
    ")\n",
    "\n",
    "df_cat = df_simple.dropna(subset=[\"first_name_sex_category\"])\n",
    "category_counts = (\n",
    "    df_cat.groupby([\"province_clean\", \"first_name_sex_category\"])\n",
    "    .size()\n",
    "    .unstack(fill_value=0)\n",
    ")\n",
    "category_counts[\"dominant_category\"] = category_counts.idxmax(axis=1)\n",
    "map_df = gdf.set_index(\"province_upper\").join(category_counts[\"dominant_category\"])\n",
    "\n",
    "color_map = {\"Male\": \"skyblue\", \"Female\": \"lightgreen\", \"Neutral\": \"lightgray\"}\n",
    "map_df[\"color\"] = map_df[\"dominant_category\"].map(color_map)\n",
    "\n",
    "fig, ax = plt.subplots(1, 1, figsize=(10, 8))\n",
    "map_df.plot(color=map_df[\"color\"], edgecolor=\"black\", ax=ax)\n",
    "for idx, row in map_df.iterrows():\n",
    "    plt.annotate(\n",
    "        text=row[\"dominant_category\"],\n",
    "        xy=(row.geometry.centroid.x, row.geometry.centroid.y),\n",
    "        horizontalalignment=\"center\",\n",
    "        fontsize=8,\n",
    "        color=\"black\",\n",
    "    )\n",
    "\n",
    "plt.title(\"Dominant first name category by province\")\n",
    "plt.axis(\"off\")\n",
    "plt.show()"
   ]
  },
  {
   "cell_type": "code",
   "execution_count": null,
   "id": "f94818e6-7c91-4f33-8070-0ec2cb8c0063",
   "metadata": {},
   "outputs": [],
   "source": [
    "# Histogram\n",
    "plt.figure(figsize=(6, 4))\n",
    "plt.bar(labels, values, color=[\"skyblue\", \"lightpink\", \"lightgray\"])\n",
    "plt.title(\"Distribution of first names by sex\")\n",
    "plt.ylabel(\"Number of first names\")\n",
    "plt.show()"
   ]
  },
  {
   "cell_type": "code",
   "execution_count": null,
   "id": "66e7aa9c-34ee-4a3b-aa6e-806eee980df4",
   "metadata": {},
   "outputs": [],
   "source": [
    "# Count of unique first names per region (province)\n",
    "distinct_regions = df_simple[\"province\"].nunique()\n",
    "print(f\">> Number of distinct regions: {distinct_regions}\")\n",
    "firstnames_by_region = (\n",
    "    df_simple.groupby(\"province\")[\"first_name\"].nunique().sort_values(ascending=False)\n",
    ")\n",
    "\n",
    "print(\"Number of unique first names per region\")\n",
    "df_firstnames_region = firstnames_by_region.reset_index()\n",
    "df_firstnames_region.columns = [\"Region\", \"Unique first names\"]\n",
    "df_firstnames_region.head(12)"
   ]
  },
  {
   "cell_type": "code",
   "execution_count": null,
   "id": "26d227c3-b32a-4cf9-843f-fb6959090a48",
   "metadata": {},
   "outputs": [],
   "source": [
    "unique_first_names = (\n",
    "    df_simple.groupby(\"province\")[\"first_name\"]\n",
    "    .nunique()\n",
    "    .reset_index(name=\"unique_count\")\n",
    ")\n",
    "unique_first_names[\"province_clean\"] = (\n",
    "    unique_first_names[\"province\"]\n",
    "    .str.upper()\n",
    "    .str.strip()\n",
    "    .str.normalize(\"NFKD\")\n",
    "    .str.encode(\"ascii\", errors=\"ignore\")\n",
    "    .str.decode(\"utf-8\")\n",
    ")\n",
    "gdf_diversity = gdf_merged.merge(\n",
    "    unique_first_names[[\"province_clean\", \"unique_count\"]],\n",
    "    on=\"province_clean\",\n",
    "    how=\"left\",\n",
    ")\n",
    "\n",
    "fig, ax = plt.subplots(figsize=(10, 10))\n",
    "gdf_diversity.plot(\n",
    "    column=\"unique_count\", cmap=\"viridis\", edgecolor=\"black\", legend=True, ax=ax\n",
    ")\n",
    "\n",
    "for idx, row in gdf_diversity.iterrows():\n",
    "    centroid = row[\"geometry\"].centroid\n",
    "    plt.text(\n",
    "        centroid.x,\n",
    "        centroid.y,\n",
    "        row[\"province_upper\"],\n",
    "        horizontalalignment=\"center\",\n",
    "        fontsize=8,\n",
    "        color=\"black\",\n",
    "    )\n",
    "\n",
    "plt.title(\"First name diversity by province\")\n",
    "plt.axis(\"off\")\n",
    "plt.show()"
   ]
  },
  {
   "cell_type": "code",
   "execution_count": null,
   "id": "b8ffcff1-7457-4a97-a1b0-629121a157f5",
   "metadata": {},
   "outputs": [],
   "source": [
    "# surnames per region (aggregated)\n",
    "top_surnames_region = (\n",
    "    surnames_by_region.sort_values(\"count\", ascending=False)\n",
    "    .drop_duplicates(\"province\")\n",
    "    .head(12)\n",
    ")\n",
    "plt.figure(figsize=(10, 6))\n",
    "sns.barplot(\n",
    "    y=\"province\", x=\"count\", data=top_surnames_region, hue=\"surname\", dodge=False\n",
    ")\n",
    "plt.title(\"Most Common Surname per Region\")\n",
    "plt.xlabel(\"Count\")\n",
    "plt.ylabel(\"Region\")\n",
    "plt.legend(title=\"Surname\", bbox_to_anchor=(1.05, 1), loc=\"upper left\")\n",
    "plt.show()"
   ]
  },
  {
   "cell_type": "code",
   "execution_count": null,
   "id": "13e9e7a6-40d4-4c72-b12c-e39a81b80617",
   "metadata": {},
   "outputs": [],
   "source": [
    "# Map of the most common surname by province in DRC\n",
    "top_surnames = (\n",
    "    df_simple.groupby([\"province\", \"surname\"]).size().reset_index(name=\"count\")\n",
    ")\n",
    "top_surnames = top_surnames.sort_values([\"province\", \"count\"], ascending=[True, False])\n",
    "top_surnames = top_surnames.drop_duplicates(subset=\"province\", keep=\"first\")\n",
    "top_surnames[\"province_clean\"] = (\n",
    "    top_surnames[\"province\"]\n",
    "    .str.upper()\n",
    "    .str.strip()\n",
    "    .str.normalize(\"NFKD\")\n",
    "    .str.encode(\"ascii\", errors=\"ignore\")\n",
    "    .str.decode(\"utf-8\")\n",
    ")\n",
    "\n",
    "gdf_named = gdf_merged.merge(\n",
    "    top_surnames[[\"province_clean\", \"surname\"]], on=\"province_clean\", how=\"left\"\n",
    ")\n",
    "\n",
    "fig, ax = plt.subplots(figsize=(12, 12))\n",
    "gdf_named.plot(column=\"count\", cmap=\"PuBu\", edgecolor=\"black\", legend=True, ax=ax)\n",
    "\n",
    "for idx, row in gdf_named.iterrows():\n",
    "    if pd.notna(row[\"surname\"]):\n",
    "        centroid = row[\"geometry\"].centroid\n",
    "        plt.text(\n",
    "            centroid.x,\n",
    "            centroid.y,\n",
    "            row[\"surname\"],\n",
    "            horizontalalignment=\"center\",\n",
    "            fontsize=8,\n",
    "            color=\"black\",\n",
    "        )\n",
    "\n",
    "plt.title(\"Most common surname by province\")\n",
    "plt.axis(\"off\")\n",
    "plt.show()"
   ]
  },
  {
   "cell_type": "code",
   "execution_count": null,
   "id": "7f713203-b498-4147-8a86-921f32dc5358",
   "metadata": {},
   "outputs": [],
   "source": [
    "# most popular middle name per region\n",
    "top_middlename_region = (\n",
    "    middlenames_by_region.sort_values(\"count\", ascending=False)\n",
    "    .drop_duplicates(\"province\")\n",
    "    .head(12)\n",
    ")\n",
    "plt.figure(figsize=(10, 6))\n",
    "sns.barplot(\n",
    "    y=\"province\", x=\"count\", data=top_middlename_region, hue=\"middle_name\", dodge=False\n",
    ")\n",
    "plt.title(\"Most Common Middle Name per Region\")\n",
    "plt.xlabel(\"Count\")\n",
    "plt.ylabel(\"Region\")\n",
    "plt.legend(title=\"Middle Name\", bbox_to_anchor=(1.05, 1), loc=\"upper left\")\n",
    "plt.show()"
   ]
  },
  {
   "cell_type": "code",
   "execution_count": null,
   "id": "141b6d40-7397-4ce0-a104-cc06404c17bf",
   "metadata": {},
   "outputs": [],
   "source": [
    "# Map of the most common middle by province in DRC\n",
    "top_surnames = (\n",
    "    df_simple.groupby([\"province\", \"middle_name\"]).size().reset_index(name=\"count\")\n",
    ")\n",
    "top_surnames = top_surnames.sort_values([\"province\", \"count\"], ascending=[True, False])\n",
    "top_surnames = top_surnames.drop_duplicates(subset=\"province\", keep=\"first\")\n",
    "top_surnames[\"province_clean\"] = (\n",
    "    top_surnames[\"province\"]\n",
    "    .str.upper()\n",
    "    .str.strip()\n",
    "    .str.normalize(\"NFKD\")\n",
    "    .str.encode(\"ascii\", errors=\"ignore\")\n",
    "    .str.decode(\"utf-8\")\n",
    ")\n",
    "\n",
    "gdf_named = gdf_merged.merge(\n",
    "    top_surnames[[\"province_clean\", \"middle_name\"]], on=\"province_clean\", how=\"left\"\n",
    ")\n",
    "\n",
    "fig, ax = plt.subplots(figsize=(12, 12))\n",
    "gdf_named.plot(column=\"count\", cmap=\"PuBu\", edgecolor=\"black\", legend=True, ax=ax)\n",
    "\n",
    "for idx, row in gdf_named.iterrows():\n",
    "    if pd.notna(row[\"middle_name\"]):\n",
    "        centroid = row[\"geometry\"].centroid\n",
    "        plt.text(\n",
    "            centroid.x,\n",
    "            centroid.y,\n",
    "            row[\"middle_name\"],\n",
    "            horizontalalignment=\"center\",\n",
    "            fontsize=8,\n",
    "            color=\"black\",\n",
    "        )\n",
    "\n",
    "plt.title(\"Most common middle name by province\")\n",
    "plt.axis(\"off\")\n",
    "plt.show()"
   ]
  }
 ],
 "metadata": {
  "kernelspec": {
   "display_name": ".venv",
   "language": "python",
   "name": "python3"
  },
  "language_info": {
   "codemirror_mode": {
    "name": "ipython",
    "version": 3
   },
   "file_extension": ".py",
   "mimetype": "text/x-python",
   "name": "python",
   "nbconvert_exporter": "python",
   "pygments_lexer": "ipython3",
   "version": "3.11.13"
  }
 },
 "nbformat": 4,
 "nbformat_minor": 5
}
